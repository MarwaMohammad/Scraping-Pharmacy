{
 "cells": [
  {
   "cell_type": "code",
   "execution_count": 1,
   "metadata": {},
   "outputs": [],
   "source": [
    "import pandas as pd\n",
    "import requests\n",
    "import json \n",
    "import re\n"
   ]
  },
  {
   "cell_type": "code",
   "execution_count": 2,
   "metadata": {},
   "outputs": [],
   "source": [
    "def Find_url(string):\n",
    "    regex = r\"(?i)\\b((?:https?://|www\\d{0,3}[.]|[a-z0-9.\\-]+[.][a-z]{2,4}/)(?:[^\\s()<>]+|\\(([^\\s()<>]+|(\\([^\\s()<>]+\\)))*\\))+(?:\\(([^\\s()<>]+|(\\([^\\s()<>]+\\)))*\\)|[^\\s`!()\\[\\]{};:'\\\".,<>?«»“”‘’]))\"\n",
    "    url = re.findall(regex,string)\n",
    "    return [x[0] for x in url]"
   ]
  },
  {
   "cell_type": "code",
   "execution_count": 3,
   "metadata": {},
   "outputs": [],
   "source": [
    "url = \"https://www.aponet.de/apotheke/apothekensuche?tx_aponetpharmacy_search%5Baction%5D=result&tx_aponetpharmacy_search%5Bcontroller%5D=Search&tx_aponetpharmacy_search%5Bsearch%5D%5Bplzort%5D=22113&tx_aponetpharmacy_search%5Bsearch%5D%5Bstreet%5D=&tx_aponetpharmacy_search%5Bsearch%5D%5Bradius%5D=50&tx_aponetpharmacy_search%5Bsearch%5D%5Blat%5D=&tx_aponetpharmacy_search%5Bsearch%5D%5Blng%5D=&type=1981\"\n",
    "page = requests.get(url)\n",
    "data = json.loads(page.text)\n"
   ]
  },
  {
   "cell_type": "code",
   "execution_count": 4,
   "metadata": {},
   "outputs": [],
   "source": [
    "if len(Find_url(data['features'][0]['properties']['popup'])) != 0:\n",
    "    apo_url = Find_url(data['features'][0]['properties']['popup'])[0].split(';')[0][:-5]\n",
    "else:\n",
    "    apo_url = None\n"
   ]
  },
  {
   "cell_type": "code",
   "execution_count": 5,
   "metadata": {},
   "outputs": [],
   "source": [
    "ls_dc = []\n",
    "for i in range(len(data['features'])):\n",
    "    apothieka_name = data['features'][i]['properties']['name']\n",
    "    apothieka_address = data['features'][i]['properties']['strasse']\n",
    "    apothieka_plz = data['features'][i]['properties']['plz']\n",
    "    apothieka_tel = data['features'][i]['properties']['telefon']\n",
    "    apothieka_email = data['features'][i]['properties']['email']\n",
    "    \n",
    "    if len(Find_url(data['features'][i]['properties']['popup'])) != 0:\n",
    "        apothieka_url = Find_url(data['features'][i]['properties']['popup'])[0].split(';')[0][:-5]\n",
    "    else:\n",
    "        apothieka_url = None\n",
    "        \n",
    "    ls_dc.append({'apothieka_name': apothieka_name,\n",
    "                          'apothieka_address':apothieka_address,\n",
    "                          'apothieka_plz': apothieka_plz,\n",
    "                          'apothieka_tel': apothieka_tel,\n",
    "                          'apothieka_email': apothieka_email,\n",
    "                          'apothieka_url': apothieka_url,\n",
    "                          })\n",
    "  \n"
   ]
  },
  {
   "cell_type": "code",
   "execution_count": 6,
   "metadata": {},
   "outputs": [],
   "source": [
    "df = pd.DataFrame(ls_dc)\n"
   ]
  },
  {
   "cell_type": "code",
   "execution_count": 7,
   "metadata": {},
   "outputs": [
    {
     "name": "stdout",
     "output_type": "stream",
     "text": [
      "<class 'pandas.core.frame.DataFrame'>\n",
      "RangeIndex: 738 entries, 0 to 737\n",
      "Data columns (total 6 columns):\n",
      " #   Column             Non-Null Count  Dtype \n",
      "---  ------             --------------  ----- \n",
      " 0   apothieka_name     738 non-null    object\n",
      " 1   apothieka_address  738 non-null    object\n",
      " 2   apothieka_plz      738 non-null    object\n",
      " 3   apothieka_tel      738 non-null    object\n",
      " 4   apothieka_email    738 non-null    object\n",
      " 5   apothieka_url      245 non-null    object\n",
      "dtypes: object(6)\n",
      "memory usage: 34.7+ KB\n"
     ]
    }
   ],
   "source": [
    "df.info()"
   ]
  },
  {
   "cell_type": "code",
   "execution_count": 8,
   "metadata": {},
   "outputs": [],
   "source": [
    "df.to_csv('apothieka.csv', index=False)"
   ]
  },
  {
   "cell_type": "code",
   "execution_count": null,
   "metadata": {},
   "outputs": [],
   "source": []
  },
  {
   "cell_type": "code",
   "execution_count": null,
   "metadata": {},
   "outputs": [],
   "source": []
  }
 ],
 "metadata": {
  "kernelspec": {
   "display_name": "Python 3",
   "language": "python",
   "name": "python3"
  },
  "language_info": {
   "codemirror_mode": {
    "name": "ipython",
    "version": 3
   },
   "file_extension": ".py",
   "mimetype": "text/x-python",
   "name": "python",
   "nbconvert_exporter": "python",
   "pygments_lexer": "ipython3",
   "version": "3.8.5"
  }
 },
 "nbformat": 4,
 "nbformat_minor": 4
}
